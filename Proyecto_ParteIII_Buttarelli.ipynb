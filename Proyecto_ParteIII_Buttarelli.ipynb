{
  "nbformat": 4,
  "nbformat_minor": 0,
  "metadata": {
    "colab": {
      "provenance": []
    },
    "kernelspec": {
      "name": "python3",
      "display_name": "Python 3"
    },
    "language_info": {
      "name": "python"
    }
  },
  "cells": [
    {
      "cell_type": "code",
      "source": [],
      "metadata": {
        "id": "Biy6X9yBwqz5"
      },
      "execution_count": null,
      "outputs": []
    },
    {
      "cell_type": "markdown",
      "source": [
        "**Introducción**\n",
        "\n",
        "*Descripción:*\n",
        "\n",
        "Este conjunto de datos contiene información sobre diversas características de los Pokémon. Cada entrada en el conjunto de datos representa un Pokémon individual y contiene atributos relacionados con sus estadísticas, tipos, habilidades y más. El objetivo de este dataset es proporcionar información completa para análisis, estudios comparativos y aplicaciones relacionadas con el universo Pokémon.\n",
        "\n",
        "*Objetivos:*\n",
        "\n",
        "-Analizar los datos recopilados para identificar patrones en los diferentes tipos de pokemones.\n",
        "\n",
        "-Probar la hipótesis de que \"los tipo 'Grass' tienden a tener mas 'HP'\n",
        "\n",
        "-Probar la hipótesis de que \"los tipo 'Fire' tienden a tener mas 'Attack'\n",
        "\n",
        "---------------------------------------------------------\n",
        "\n",
        "El dataset con el que se trabajará refleja la pokedex hasta el índice 933, con las siguientes columnas:\n",
        "\n",
        "**Name** (Nombre)\n",
        "\n",
        "**Type 1** (Tipo predominante)\n",
        "\n",
        "**Type 2**(Tipo adicional)\n",
        "\n",
        "**Total** (Cantidad total del pokemon específico)\n",
        "\n",
        "**HP** (Cantidad de vida)\n",
        "\n",
        "**Attack** (Cantidad de ataque)\n",
        "\n",
        "**Defense** (Cantidad de defensa)\n",
        "\n",
        "**Sp.attack** (Cantidad de ataque especial)\n",
        "\n",
        "**Sp.defense** (Cantidad de defensa especial)\n",
        "\n",
        "**Speed** (Cantidad de velocidad)\n",
        "\n",
        "**Ability1** (Primera hablidad)\n",
        "\n",
        "**Ability2** (Segunda habilidad)\n",
        "\n",
        "**Ability3** (Tercera habilidad)\n",
        "\n",
        "**Generation** (A qué generación pertenece)\n",
        "\n",
        "**Legendary** (Si es un pokemon tipo legendario)\n",
        "\n",
        "**Mythical** (Si es un pokemon tipo mítico)"
      ],
      "metadata": {
        "id": "7nBa4XNibylI"
      }
    },
    {
      "cell_type": "markdown",
      "source": [
        "**Exploración de los datos**\n",
        "\n",
        "En esta primera parte del proyecto es necesario cargar las librerías a utilizar, así como el dataset, para luego realizar la preparación de los datos."
      ],
      "metadata": {
        "id": "v2yezFVVewVp"
      }
    },
    {
      "cell_type": "code",
      "source": [
        "# Estas son las librerías a utilizar en el proyecto\n",
        "\n",
        "import pandas as pd\n",
        "import matplotlib.pyplot as plt\n",
        "import numpy as np\n",
        "import seaborn as sns\n",
        "from sklearn.ensemble import RandomForestClassifier\n",
        "from sklearn.model_selection import train_test_split"
      ],
      "metadata": {
        "id": "8-OSjLABei1v"
      },
      "execution_count": null,
      "outputs": []
    },
    {
      "cell_type": "code",
      "source": [
        "# Se carga el dataset\n",
        "\n",
        "pokemon= pd.read_csv('pokemon.csv')"
      ],
      "metadata": {
        "id": "WZtM5KNCe9wR"
      },
      "execution_count": null,
      "outputs": []
    },
    {
      "cell_type": "code",
      "source": [
        "# Estos son los datos del archivo\n",
        "\n",
        "pokemon.info()"
      ],
      "metadata": {
        "colab": {
          "base_uri": "https://localhost:8080/"
        },
        "id": "fZ3bF54yfHnM",
        "outputId": "f6b34f29-4882-46ac-b5ba-4994ce6a0f0f"
      },
      "execution_count": null,
      "outputs": [
        {
          "output_type": "stream",
          "name": "stdout",
          "text": [
            "<class 'pandas.core.frame.DataFrame'>\n",
            "RangeIndex: 933 entries, 0 to 932\n",
            "Data columns (total 17 columns):\n",
            " #   Column      Non-Null Count  Dtype  \n",
            "---  ------      --------------  -----  \n",
            " 0   #           933 non-null    float64\n",
            " 1   Name        933 non-null    object \n",
            " 2   Type 1      933 non-null    object \n",
            " 3   Type 2      503 non-null    object \n",
            " 4   Total       933 non-null    int64  \n",
            " 5   HP          933 non-null    int64  \n",
            " 6   Attack      933 non-null    int64  \n",
            " 7   Defense     933 non-null    int64  \n",
            " 8   Sp. Atk     933 non-null    int64  \n",
            " 9   Sp. Def     933 non-null    int64  \n",
            " 10  Speed       933 non-null    int64  \n",
            " 11  Ability1    933 non-null    object \n",
            " 12  Ability2    728 non-null    object \n",
            " 13  Ability3    462 non-null    object \n",
            " 14  Generation  933 non-null    int64  \n",
            " 15  Legendary   933 non-null    object \n",
            " 16  Mythical    933 non-null    bool   \n",
            "dtypes: bool(1), float64(1), int64(8), object(7)\n",
            "memory usage: 117.7+ KB\n"
          ]
        }
      ]
    },
    {
      "cell_type": "markdown",
      "source": [
        "Se pueden observar 16 columnas. Primero, vamos a sacarle las mayúsculas a las columnas."
      ],
      "metadata": {
        "id": "IzGTFx8dfUUk"
      }
    },
    {
      "cell_type": "code",
      "source": [
        "pokemon.columns = ['#', 'name', 'type 1', 'type 2', 'total', 'hp', 'attack', 'defense', 'sp_atk', 'sp_def', 'speed', 'ability1', 'ability2', 'ability3', 'generation', 'legenday', 'mythical']\n",
        "pokemon.head()"
      ],
      "metadata": {
        "colab": {
          "base_uri": "https://localhost:8080/",
          "height": 278
        },
        "id": "7t7j4YxffiVZ",
        "outputId": "4ce09525-f8c7-4a9d-e780-da8bb38ddeb4"
      },
      "execution_count": null,
      "outputs": [
        {
          "output_type": "execute_result",
          "data": {
            "text/plain": [
              "     #           name type 1  type 2  total  hp  attack  defense  sp_atk  \\\n",
              "0  1.0      Bulbasaur  Grass  Poison    318  45      49       49      65   \n",
              "1  2.0        Ivysaur  Grass  Poison    405  60      62       63      80   \n",
              "2  3.0       Venusaur  Grass  Poison    525  80      82       83     100   \n",
              "3  3.1  Mega Venusaur  Grass  Poison    625  80     100      123     122   \n",
              "4  4.0     Charmander   Fire     NaN    309  39      52       43      60   \n",
              "\n",
              "   sp_def  speed   ability1     ability2 ability3  generation legenday  \\\n",
              "0      65     45   Overgrow  Chlorophyll      NaN           1    FALSE   \n",
              "1      80     60   Overgrow  Chlorophyll      NaN           1    FALSE   \n",
              "2     100     80   Overgrow  Chlorophyll      NaN           1    FALSE   \n",
              "3     120     80  Thick Fat          NaN      NaN           1    FALSE   \n",
              "4      50     65      Blaze  Solar Power      NaN           1    FALSE   \n",
              "\n",
              "   mythical  \n",
              "0     False  \n",
              "1     False  \n",
              "2     False  \n",
              "3     False  \n",
              "4     False  "
            ],
            "text/html": [
              "\n",
              "  <div id=\"df-cc14dbeb-2700-4df4-8a7a-49749d580468\" class=\"colab-df-container\">\n",
              "    <div>\n",
              "<style scoped>\n",
              "    .dataframe tbody tr th:only-of-type {\n",
              "        vertical-align: middle;\n",
              "    }\n",
              "\n",
              "    .dataframe tbody tr th {\n",
              "        vertical-align: top;\n",
              "    }\n",
              "\n",
              "    .dataframe thead th {\n",
              "        text-align: right;\n",
              "    }\n",
              "</style>\n",
              "<table border=\"1\" class=\"dataframe\">\n",
              "  <thead>\n",
              "    <tr style=\"text-align: right;\">\n",
              "      <th></th>\n",
              "      <th>#</th>\n",
              "      <th>name</th>\n",
              "      <th>type 1</th>\n",
              "      <th>type 2</th>\n",
              "      <th>total</th>\n",
              "      <th>hp</th>\n",
              "      <th>attack</th>\n",
              "      <th>defense</th>\n",
              "      <th>sp_atk</th>\n",
              "      <th>sp_def</th>\n",
              "      <th>speed</th>\n",
              "      <th>ability1</th>\n",
              "      <th>ability2</th>\n",
              "      <th>ability3</th>\n",
              "      <th>generation</th>\n",
              "      <th>legenday</th>\n",
              "      <th>mythical</th>\n",
              "    </tr>\n",
              "  </thead>\n",
              "  <tbody>\n",
              "    <tr>\n",
              "      <th>0</th>\n",
              "      <td>1.0</td>\n",
              "      <td>Bulbasaur</td>\n",
              "      <td>Grass</td>\n",
              "      <td>Poison</td>\n",
              "      <td>318</td>\n",
              "      <td>45</td>\n",
              "      <td>49</td>\n",
              "      <td>49</td>\n",
              "      <td>65</td>\n",
              "      <td>65</td>\n",
              "      <td>45</td>\n",
              "      <td>Overgrow</td>\n",
              "      <td>Chlorophyll</td>\n",
              "      <td>NaN</td>\n",
              "      <td>1</td>\n",
              "      <td>FALSE</td>\n",
              "      <td>False</td>\n",
              "    </tr>\n",
              "    <tr>\n",
              "      <th>1</th>\n",
              "      <td>2.0</td>\n",
              "      <td>Ivysaur</td>\n",
              "      <td>Grass</td>\n",
              "      <td>Poison</td>\n",
              "      <td>405</td>\n",
              "      <td>60</td>\n",
              "      <td>62</td>\n",
              "      <td>63</td>\n",
              "      <td>80</td>\n",
              "      <td>80</td>\n",
              "      <td>60</td>\n",
              "      <td>Overgrow</td>\n",
              "      <td>Chlorophyll</td>\n",
              "      <td>NaN</td>\n",
              "      <td>1</td>\n",
              "      <td>FALSE</td>\n",
              "      <td>False</td>\n",
              "    </tr>\n",
              "    <tr>\n",
              "      <th>2</th>\n",
              "      <td>3.0</td>\n",
              "      <td>Venusaur</td>\n",
              "      <td>Grass</td>\n",
              "      <td>Poison</td>\n",
              "      <td>525</td>\n",
              "      <td>80</td>\n",
              "      <td>82</td>\n",
              "      <td>83</td>\n",
              "      <td>100</td>\n",
              "      <td>100</td>\n",
              "      <td>80</td>\n",
              "      <td>Overgrow</td>\n",
              "      <td>Chlorophyll</td>\n",
              "      <td>NaN</td>\n",
              "      <td>1</td>\n",
              "      <td>FALSE</td>\n",
              "      <td>False</td>\n",
              "    </tr>\n",
              "    <tr>\n",
              "      <th>3</th>\n",
              "      <td>3.1</td>\n",
              "      <td>Mega Venusaur</td>\n",
              "      <td>Grass</td>\n",
              "      <td>Poison</td>\n",
              "      <td>625</td>\n",
              "      <td>80</td>\n",
              "      <td>100</td>\n",
              "      <td>123</td>\n",
              "      <td>122</td>\n",
              "      <td>120</td>\n",
              "      <td>80</td>\n",
              "      <td>Thick Fat</td>\n",
              "      <td>NaN</td>\n",
              "      <td>NaN</td>\n",
              "      <td>1</td>\n",
              "      <td>FALSE</td>\n",
              "      <td>False</td>\n",
              "    </tr>\n",
              "    <tr>\n",
              "      <th>4</th>\n",
              "      <td>4.0</td>\n",
              "      <td>Charmander</td>\n",
              "      <td>Fire</td>\n",
              "      <td>NaN</td>\n",
              "      <td>309</td>\n",
              "      <td>39</td>\n",
              "      <td>52</td>\n",
              "      <td>43</td>\n",
              "      <td>60</td>\n",
              "      <td>50</td>\n",
              "      <td>65</td>\n",
              "      <td>Blaze</td>\n",
              "      <td>Solar Power</td>\n",
              "      <td>NaN</td>\n",
              "      <td>1</td>\n",
              "      <td>FALSE</td>\n",
              "      <td>False</td>\n",
              "    </tr>\n",
              "  </tbody>\n",
              "</table>\n",
              "</div>\n",
              "    <div class=\"colab-df-buttons\">\n",
              "\n",
              "  <div class=\"colab-df-container\">\n",
              "    <button class=\"colab-df-convert\" onclick=\"convertToInteractive('df-cc14dbeb-2700-4df4-8a7a-49749d580468')\"\n",
              "            title=\"Convert this dataframe to an interactive table.\"\n",
              "            style=\"display:none;\">\n",
              "\n",
              "  <svg xmlns=\"http://www.w3.org/2000/svg\" height=\"24px\" viewBox=\"0 -960 960 960\">\n",
              "    <path d=\"M120-120v-720h720v720H120Zm60-500h600v-160H180v160Zm220 220h160v-160H400v160Zm0 220h160v-160H400v160ZM180-400h160v-160H180v160Zm440 0h160v-160H620v160ZM180-180h160v-160H180v160Zm440 0h160v-160H620v160Z\"/>\n",
              "  </svg>\n",
              "    </button>\n",
              "\n",
              "  <style>\n",
              "    .colab-df-container {\n",
              "      display:flex;\n",
              "      gap: 12px;\n",
              "    }\n",
              "\n",
              "    .colab-df-convert {\n",
              "      background-color: #E8F0FE;\n",
              "      border: none;\n",
              "      border-radius: 50%;\n",
              "      cursor: pointer;\n",
              "      display: none;\n",
              "      fill: #1967D2;\n",
              "      height: 32px;\n",
              "      padding: 0 0 0 0;\n",
              "      width: 32px;\n",
              "    }\n",
              "\n",
              "    .colab-df-convert:hover {\n",
              "      background-color: #E2EBFA;\n",
              "      box-shadow: 0px 1px 2px rgba(60, 64, 67, 0.3), 0px 1px 3px 1px rgba(60, 64, 67, 0.15);\n",
              "      fill: #174EA6;\n",
              "    }\n",
              "\n",
              "    .colab-df-buttons div {\n",
              "      margin-bottom: 4px;\n",
              "    }\n",
              "\n",
              "    [theme=dark] .colab-df-convert {\n",
              "      background-color: #3B4455;\n",
              "      fill: #D2E3FC;\n",
              "    }\n",
              "\n",
              "    [theme=dark] .colab-df-convert:hover {\n",
              "      background-color: #434B5C;\n",
              "      box-shadow: 0px 1px 3px 1px rgba(0, 0, 0, 0.15);\n",
              "      filter: drop-shadow(0px 1px 2px rgba(0, 0, 0, 0.3));\n",
              "      fill: #FFFFFF;\n",
              "    }\n",
              "  </style>\n",
              "\n",
              "    <script>\n",
              "      const buttonEl =\n",
              "        document.querySelector('#df-cc14dbeb-2700-4df4-8a7a-49749d580468 button.colab-df-convert');\n",
              "      buttonEl.style.display =\n",
              "        google.colab.kernel.accessAllowed ? 'block' : 'none';\n",
              "\n",
              "      async function convertToInteractive(key) {\n",
              "        const element = document.querySelector('#df-cc14dbeb-2700-4df4-8a7a-49749d580468');\n",
              "        const dataTable =\n",
              "          await google.colab.kernel.invokeFunction('convertToInteractive',\n",
              "                                                    [key], {});\n",
              "        if (!dataTable) return;\n",
              "\n",
              "        const docLinkHtml = 'Like what you see? Visit the ' +\n",
              "          '<a target=\"_blank\" href=https://colab.research.google.com/notebooks/data_table.ipynb>data table notebook</a>'\n",
              "          + ' to learn more about interactive tables.';\n",
              "        element.innerHTML = '';\n",
              "        dataTable['output_type'] = 'display_data';\n",
              "        await google.colab.output.renderOutput(dataTable, element);\n",
              "        const docLink = document.createElement('div');\n",
              "        docLink.innerHTML = docLinkHtml;\n",
              "        element.appendChild(docLink);\n",
              "      }\n",
              "    </script>\n",
              "  </div>\n",
              "\n",
              "\n",
              "<div id=\"df-a7462751-ed73-49d0-81c9-c90f9930ba1f\">\n",
              "  <button class=\"colab-df-quickchart\" onclick=\"quickchart('df-a7462751-ed73-49d0-81c9-c90f9930ba1f')\"\n",
              "            title=\"Suggest charts\"\n",
              "            style=\"display:none;\">\n",
              "\n",
              "<svg xmlns=\"http://www.w3.org/2000/svg\" height=\"24px\"viewBox=\"0 0 24 24\"\n",
              "     width=\"24px\">\n",
              "    <g>\n",
              "        <path d=\"M19 3H5c-1.1 0-2 .9-2 2v14c0 1.1.9 2 2 2h14c1.1 0 2-.9 2-2V5c0-1.1-.9-2-2-2zM9 17H7v-7h2v7zm4 0h-2V7h2v10zm4 0h-2v-4h2v4z\"/>\n",
              "    </g>\n",
              "</svg>\n",
              "  </button>\n",
              "\n",
              "<style>\n",
              "  .colab-df-quickchart {\n",
              "      --bg-color: #E8F0FE;\n",
              "      --fill-color: #1967D2;\n",
              "      --hover-bg-color: #E2EBFA;\n",
              "      --hover-fill-color: #174EA6;\n",
              "      --disabled-fill-color: #AAA;\n",
              "      --disabled-bg-color: #DDD;\n",
              "  }\n",
              "\n",
              "  [theme=dark] .colab-df-quickchart {\n",
              "      --bg-color: #3B4455;\n",
              "      --fill-color: #D2E3FC;\n",
              "      --hover-bg-color: #434B5C;\n",
              "      --hover-fill-color: #FFFFFF;\n",
              "      --disabled-bg-color: #3B4455;\n",
              "      --disabled-fill-color: #666;\n",
              "  }\n",
              "\n",
              "  .colab-df-quickchart {\n",
              "    background-color: var(--bg-color);\n",
              "    border: none;\n",
              "    border-radius: 50%;\n",
              "    cursor: pointer;\n",
              "    display: none;\n",
              "    fill: var(--fill-color);\n",
              "    height: 32px;\n",
              "    padding: 0;\n",
              "    width: 32px;\n",
              "  }\n",
              "\n",
              "  .colab-df-quickchart:hover {\n",
              "    background-color: var(--hover-bg-color);\n",
              "    box-shadow: 0 1px 2px rgba(60, 64, 67, 0.3), 0 1px 3px 1px rgba(60, 64, 67, 0.15);\n",
              "    fill: var(--button-hover-fill-color);\n",
              "  }\n",
              "\n",
              "  .colab-df-quickchart-complete:disabled,\n",
              "  .colab-df-quickchart-complete:disabled:hover {\n",
              "    background-color: var(--disabled-bg-color);\n",
              "    fill: var(--disabled-fill-color);\n",
              "    box-shadow: none;\n",
              "  }\n",
              "\n",
              "  .colab-df-spinner {\n",
              "    border: 2px solid var(--fill-color);\n",
              "    border-color: transparent;\n",
              "    border-bottom-color: var(--fill-color);\n",
              "    animation:\n",
              "      spin 1s steps(1) infinite;\n",
              "  }\n",
              "\n",
              "  @keyframes spin {\n",
              "    0% {\n",
              "      border-color: transparent;\n",
              "      border-bottom-color: var(--fill-color);\n",
              "      border-left-color: var(--fill-color);\n",
              "    }\n",
              "    20% {\n",
              "      border-color: transparent;\n",
              "      border-left-color: var(--fill-color);\n",
              "      border-top-color: var(--fill-color);\n",
              "    }\n",
              "    30% {\n",
              "      border-color: transparent;\n",
              "      border-left-color: var(--fill-color);\n",
              "      border-top-color: var(--fill-color);\n",
              "      border-right-color: var(--fill-color);\n",
              "    }\n",
              "    40% {\n",
              "      border-color: transparent;\n",
              "      border-right-color: var(--fill-color);\n",
              "      border-top-color: var(--fill-color);\n",
              "    }\n",
              "    60% {\n",
              "      border-color: transparent;\n",
              "      border-right-color: var(--fill-color);\n",
              "    }\n",
              "    80% {\n",
              "      border-color: transparent;\n",
              "      border-right-color: var(--fill-color);\n",
              "      border-bottom-color: var(--fill-color);\n",
              "    }\n",
              "    90% {\n",
              "      border-color: transparent;\n",
              "      border-bottom-color: var(--fill-color);\n",
              "    }\n",
              "  }\n",
              "</style>\n",
              "\n",
              "  <script>\n",
              "    async function quickchart(key) {\n",
              "      const quickchartButtonEl =\n",
              "        document.querySelector('#' + key + ' button');\n",
              "      quickchartButtonEl.disabled = true;  // To prevent multiple clicks.\n",
              "      quickchartButtonEl.classList.add('colab-df-spinner');\n",
              "      try {\n",
              "        const charts = await google.colab.kernel.invokeFunction(\n",
              "            'suggestCharts', [key], {});\n",
              "      } catch (error) {\n",
              "        console.error('Error during call to suggestCharts:', error);\n",
              "      }\n",
              "      quickchartButtonEl.classList.remove('colab-df-spinner');\n",
              "      quickchartButtonEl.classList.add('colab-df-quickchart-complete');\n",
              "    }\n",
              "    (() => {\n",
              "      let quickchartButtonEl =\n",
              "        document.querySelector('#df-a7462751-ed73-49d0-81c9-c90f9930ba1f button');\n",
              "      quickchartButtonEl.style.display =\n",
              "        google.colab.kernel.accessAllowed ? 'block' : 'none';\n",
              "    })();\n",
              "  </script>\n",
              "</div>\n",
              "\n",
              "    </div>\n",
              "  </div>\n"
            ],
            "application/vnd.google.colaboratory.intrinsic+json": {
              "type": "dataframe",
              "variable_name": "pokemon",
              "summary": "{\n  \"name\": \"pokemon\",\n  \"rows\": 933,\n  \"fields\": [\n    {\n      \"column\": \"#\",\n      \"properties\": {\n        \"dtype\": \"number\",\n        \"std\": 236.847274728088,\n        \"min\": 1.0,\n        \"max\": 809.0,\n        \"num_unique_values\": 933,\n        \"samples\": [\n          720.1,\n          55.0,\n          546.0\n        ],\n        \"semantic_type\": \"\",\n        \"description\": \"\"\n      }\n    },\n    {\n      \"column\": \"name\",\n      \"properties\": {\n        \"dtype\": \"string\",\n        \"num_unique_values\": 932,\n        \"samples\": [\n          \"Hoopa Unbound Forme\",\n          \"Golduck\",\n          \"Whimsicott\"\n        ],\n        \"semantic_type\": \"\",\n        \"description\": \"\"\n      }\n    },\n    {\n      \"column\": \"type 1\",\n      \"properties\": {\n        \"dtype\": \"category\",\n        \"num_unique_values\": 20,\n        \"samples\": [\n          \"Grass\",\n          \"Flying\",\n          \"Ghost\"\n        ],\n        \"semantic_type\": \"\",\n        \"description\": \"\"\n      }\n    },\n    {\n      \"column\": \"type 2\",\n      \"properties\": {\n        \"dtype\": \"category\",\n        \"num_unique_values\": 18,\n        \"samples\": [\n          \"Poison\",\n          \"Flying\",\n          \"Grass\"\n        ],\n        \"semantic_type\": \"\",\n        \"description\": \"\"\n      }\n    },\n    {\n      \"column\": \"total\",\n      \"properties\": {\n        \"dtype\": \"number\",\n        \"std\": 120,\n        \"min\": 175,\n        \"max\": 780,\n        \"num_unique_values\": 209,\n        \"samples\": [\n          365,\n          489,\n          415\n        ],\n        \"semantic_type\": \"\",\n        \"description\": \"\"\n      }\n    },\n    {\n      \"column\": \"hp\",\n      \"properties\": {\n        \"dtype\": \"number\",\n        \"std\": 26,\n        \"min\": 1,\n        \"max\": 255,\n        \"num_unique_values\": 99,\n        \"samples\": [\n          53,\n          106,\n          47\n        ],\n        \"semantic_type\": \"\",\n        \"description\": \"\"\n      }\n    },\n    {\n      \"column\": \"attack\",\n      \"properties\": {\n        \"dtype\": \"number\",\n        \"std\": 32,\n        \"min\": 5,\n        \"max\": 190,\n        \"num_unique_values\": 120,\n        \"samples\": [\n          5,\n          155,\n          52\n        ],\n        \"semantic_type\": \"\",\n        \"description\": \"\"\n      }\n    },\n    {\n      \"column\": \"defense\",\n      \"properties\": {\n        \"dtype\": \"number\",\n        \"std\": 31,\n        \"min\": 5,\n        \"max\": 230,\n        \"num_unique_values\": 113,\n        \"samples\": [\n          56,\n          43,\n          160\n        ],\n        \"semantic_type\": \"\",\n        \"description\": \"\"\n      }\n    },\n    {\n      \"column\": \"sp_atk\",\n      \"properties\": {\n        \"dtype\": \"number\",\n        \"std\": 33,\n        \"min\": 10,\n        \"max\": 194,\n        \"num_unique_values\": 116,\n        \"samples\": [\n          68,\n          60,\n          83\n        ],\n        \"semantic_type\": \"\",\n        \"description\": \"\"\n      }\n    },\n    {\n      \"column\": \"sp_def\",\n      \"properties\": {\n        \"dtype\": \"number\",\n        \"std\": 27,\n        \"min\": 20,\n        \"max\": 230,\n        \"num_unique_values\": 101,\n        \"samples\": [\n          98,\n          44,\n          59\n        ],\n        \"semantic_type\": \"\",\n        \"description\": \"\"\n      }\n    },\n    {\n      \"column\": \"speed\",\n      \"properties\": {\n        \"dtype\": \"number\",\n        \"std\": 29,\n        \"min\": 5,\n        \"max\": 180,\n        \"num_unique_values\": 118,\n        \"samples\": [\n          23,\n          44,\n          100\n        ],\n        \"semantic_type\": \"\",\n        \"description\": \"\"\n      }\n    },\n    {\n      \"column\": \"ability1\",\n      \"properties\": {\n        \"dtype\": \"category\",\n        \"num_unique_values\": 187,\n        \"samples\": [\n          \"Neuroforce\",\n          \"Magic Bounce\",\n          \"Swift Swim\"\n        ],\n        \"semantic_type\": \"\",\n        \"description\": \"\"\n      }\n    },\n    {\n      \"column\": \"ability2\",\n      \"properties\": {\n        \"dtype\": \"category\",\n        \"num_unique_values\": 157,\n        \"samples\": [\n          \"Torrent\",\n          \"Harvest\",\n          \"Snow Warning\"\n        ],\n        \"semantic_type\": \"\",\n        \"description\": \"\"\n      }\n    },\n    {\n      \"column\": \"ability3\",\n      \"properties\": {\n        \"dtype\": \"category\",\n        \"num_unique_values\": 115,\n        \"samples\": [\n          \"Harvest\",\n          \"Sheer Force\",\n          \"Reckless\"\n        ],\n        \"semantic_type\": \"\",\n        \"description\": \"\"\n      }\n    },\n    {\n      \"column\": \"generation\",\n      \"properties\": {\n        \"dtype\": \"number\",\n        \"std\": 1,\n        \"min\": 1,\n        \"max\": 7,\n        \"num_unique_values\": 7,\n        \"samples\": [\n          1,\n          2,\n          6\n        ],\n        \"semantic_type\": \"\",\n        \"description\": \"\"\n      }\n    },\n    {\n      \"column\": \"legenday\",\n      \"properties\": {\n        \"dtype\": \"category\",\n        \"num_unique_values\": 3,\n        \"samples\": [\n          \"FALSE\",\n          \"TRUE\",\n          \"Tru\"\n        ],\n        \"semantic_type\": \"\",\n        \"description\": \"\"\n      }\n    },\n    {\n      \"column\": \"mythical\",\n      \"properties\": {\n        \"dtype\": \"boolean\",\n        \"num_unique_values\": 2,\n        \"samples\": [\n          true,\n          false\n        ],\n        \"semantic_type\": \"\",\n        \"description\": \"\"\n      }\n    }\n  ]\n}"
            }
          },
          "metadata": {},
          "execution_count": 4
        }
      ]
    },
    {
      "cell_type": "markdown",
      "source": [
        "Checkeemos si hay nulos en las columnas."
      ],
      "metadata": {
        "id": "2aYoHXEJ0yhi"
      }
    },
    {
      "cell_type": "code",
      "source": [
        "nulos_por_celda = pokemon.isna()\n",
        "total_nulos = nulos_por_celda.sum().sum()\n",
        "print(total_nulos)"
      ],
      "metadata": {
        "colab": {
          "base_uri": "https://localhost:8080/"
        },
        "id": "NmoGd9LP037I",
        "outputId": "6850b08e-296b-47c6-eef1-a35dd755a0bc"
      },
      "execution_count": null,
      "outputs": [
        {
          "output_type": "stream",
          "name": "stdout",
          "text": [
            "1106\n"
          ]
        }
      ]
    },
    {
      "cell_type": "markdown",
      "source": [
        "Identifiquemos dónde se encuentran."
      ],
      "metadata": {
        "id": "2mtRir8V3fAD"
      }
    },
    {
      "cell_type": "code",
      "source": [
        "posicion_nulos = nulos_por_celda.stack()[nulos_por_celda.stack()]\n",
        "posicion_nulos"
      ],
      "metadata": {
        "colab": {
          "base_uri": "https://localhost:8080/"
        },
        "id": "MRznjAeL3huc",
        "outputId": "a169a91a-158b-4046-c2f5-60e8904cc09e"
      },
      "execution_count": null,
      "outputs": [
        {
          "output_type": "execute_result",
          "data": {
            "text/plain": [
              "0    ability3    True\n",
              "1    ability3    True\n",
              "2    ability3    True\n",
              "3    ability2    True\n",
              "     ability3    True\n",
              "                 ... \n",
              "931  ability2    True\n",
              "     ability3    True\n",
              "932  type 2      True\n",
              "     ability2    True\n",
              "     ability3    True\n",
              "Length: 1106, dtype: bool"
            ]
          },
          "metadata": {},
          "execution_count": 6
        }
      ]
    },
    {
      "cell_type": "code",
      "source": [
        "columnas_con_nulos = pokemon.loc[:, pokemon.isna().any(axis=0)]\n",
        "\n",
        "print(\"Columnas con valores nulos en el DataFrame:\")\n",
        "print(columnas_con_nulos)"
      ],
      "metadata": {
        "colab": {
          "base_uri": "https://localhost:8080/"
        },
        "id": "fOEg1fBg37Mv",
        "outputId": "cc9b37c2-bf43-4477-dd25-d8ff1dfbfdf3"
      },
      "execution_count": null,
      "outputs": [
        {
          "output_type": "stream",
          "name": "stdout",
          "text": [
            "Columnas con valores nulos en el DataFrame:\n",
            "     type 2     ability2 ability3\n",
            "0    Poison  Chlorophyll      NaN\n",
            "1    Poison  Chlorophyll      NaN\n",
            "2    Poison  Chlorophyll      NaN\n",
            "3    Poison          NaN      NaN\n",
            "4       NaN  Solar Power      NaN\n",
            "..      ...          ...      ...\n",
            "928   Steel          NaN      NaN\n",
            "929   Ghost          NaN      NaN\n",
            "930     NaN          NaN      NaN\n",
            "931     NaN          NaN      NaN\n",
            "932     NaN          NaN      NaN\n",
            "\n",
            "[933 rows x 3 columns]\n"
          ]
        }
      ]
    },
    {
      "cell_type": "markdown",
      "source": [
        "Esto significa que en las únicas columnas que hay valores nulos son en la columna 'type2', 'ability2', y en 'ability3', y para lo que nosotros queremos saber, que haya datos nulos en estas columnas, no nos afecta.\n",
        "\n",
        "Eliminarlos supone un riego para los dastos ya establecidos.\n",
        "\n",
        "**Decisión de nulos:** Dejar el dataframe con los nulos existentes."
      ],
      "metadata": {
        "id": "QhgdHdb54h5L"
      }
    },
    {
      "cell_type": "markdown",
      "source": [
        "### Análisis de los datos\n",
        "\n",
        "**Cantidad de pokemones por tipo**\n",
        "\n",
        "En este apartado se realizara la medición de cuántos pokemones se crearon de cada tipo, incluyendo todas las generaciones."
      ],
      "metadata": {
        "id": "f9QrjDLd5ZDV"
      }
    },
    {
      "cell_type": "code",
      "source": [
        "#Contemos cuántos de cada tipo hay\n",
        "type1_cuenta = pokemon['type 1'].value_counts()\n",
        "print(type1_cuenta)"
      ],
      "metadata": {
        "colab": {
          "base_uri": "https://localhost:8080/"
        },
        "id": "1FWLMlkq6N2s",
        "outputId": "280a3f73-acd2-4508-8fcf-259e01363c65"
      },
      "execution_count": null,
      "outputs": [
        {
          "output_type": "stream",
          "name": "stdout",
          "text": [
            "type 1\n",
            "Water       122\n",
            "Normal      110\n",
            "Grass        81\n",
            "Bug          77\n",
            "Psychic      72\n",
            "Fire         59\n",
            "Rock         55\n",
            "Electric     50\n",
            "Ground       39\n",
            "Dark         38\n",
            "Ghost        38\n",
            "Dragon       37\n",
            "Poison       37\n",
            "Fighting     33\n",
            "Steel        32\n",
            "Ice          28\n",
            "Fairy        18\n",
            "Flying        5\n",
            " Ice          1\n",
            " Dark         1\n",
            "Name: count, dtype: int64\n"
          ]
        }
      ]
    },
    {
      "cell_type": "code",
      "source": [
        "# Y veamos los datos\n",
        "plt.figure(figsize=(12, 8))\n",
        "type1_cuenta.plot(kind='bar')\n",
        "plt.title('Cantidad de Pokémon por Tipo')\n",
        "plt.xlabel('Tipo de Pokémon')\n",
        "plt.ylabel('Cantidad')\n",
        "plt.show()"
      ],
      "metadata": {
        "colab": {
          "base_uri": "https://localhost:8080/",
          "height": 714
        },
        "id": "Agp-nFkA79bd",
        "outputId": "837f80b7-6694-4483-81d9-d200427bd6a4"
      },
      "execution_count": null,
      "outputs": [
        {
          "output_type": "display_data",
          "data": {
            "text/plain": [
              "<Figure size 1200x800 with 1 Axes>"
            ],
            "image/png": "[encoded data removed]"
          },
          "metadata": {}
        }
      ]
    },
    {
      "cell_type": "markdown",
      "source": [
        "Como podemos ver, los valores varían bastante dependiendo del tipo de pokemon.\n",
        "\n",
        "*Filtremos un poquito mas...*"
      ],
      "metadata": {
        "id": "2bFS-naW-K6O"
      }
    },
    {
      "cell_type": "code",
      "source": [
        "#Separamos a los tipo 'Fire' y los tipo 'Grass'\n",
        "fire_pokemon = pokemon[pokemon['type 1'] == 'Fire']\n",
        "grass_pokemon = pokemon[pokemon['type 1'] == 'Grass']"
      ],
      "metadata": {
        "id": "2HVR-nevABHh"
      },
      "execution_count": null,
      "outputs": []
    },
    {
      "cell_type": "code",
      "source": [
        "#Obtenemos el valor de el 'attack'\n",
        "fire_attack = fire_pokemon['attack']\n",
        "grass_attack = grass_pokemon['attack']\n",
        "\n",
        "#Y los sumamos\n",
        "total_attack_fire = fire_attack.sum()\n",
        "total_attack_grass = grass_attack.sum()\n",
        "print('Ataque de los tipo fuego')\n",
        "print (total_attack_fire)\n",
        "print ('--------')\n",
        "print('Ataque de los tipo grass')\n",
        "print (total_attack_grass)"
      ],
      "metadata": {
        "colab": {
          "base_uri": "https://localhost:8080/"
        },
        "id": "bN6nivZkAi7B",
        "outputId": "76b09f9b-d5c3-40f7-ecca-746412fe3b2f"
      },
      "execution_count": null,
      "outputs": [
        {
          "output_type": "stream",
          "name": "stdout",
          "text": [
            "Ataque de los tipo fuego\n",
            "5028\n",
            "--------\n",
            "Ataque de los tipo grass\n",
            "6006\n"
          ]
        }
      ]
    },
    {
      "cell_type": "markdown",
      "source": [
        "Epa... Ahora, dibujemos."
      ],
      "metadata": {
        "id": "qi2juJJMt3QT"
      }
    },
    {
      "cell_type": "code",
      "source": [
        "labels = 'Fire', 'Grass'\n",
        "sizes = [total_attack_fire, total_attack_grass]\n",
        "colors = ['orange', 'green']\n",
        "explode = (0.1, 0)  # solo \"explota\" el primer segmento\n",
        "\n",
        "plt.figure(figsize=(8, 8))\n",
        "plt.pie(sizes, labels=labels, colors=colors, autopct='%1.1f%%')\n",
        "plt.title('Proporción del Ataque Total entre Pokémon de Tipo Fire y Grass')\n",
        "plt.show()"
      ],
      "metadata": {
        "colab": {
          "base_uri": "https://localhost:8080/",
          "height": 675
        },
        "id": "Y--i7Bm5t6Fp",
        "outputId": "a12f2922-22a1-4d75-c715-35cae5621eb5"
      },
      "execution_count": null,
      "outputs": [
        {
          "output_type": "display_data",
          "data": {
            "text/plain": [
              "<Figure size 800x800 with 1 Axes>"
            ],
            "image/png": "[encoded data removed]"
          },
          "metadata": {}
        }
      ]
    },
    {
      "cell_type": "markdown",
      "source": [
        "Como podemos ver, los pokemones tipo Grass tienen un 4,4% más de ataque que los de tipo Fire, sumando los ataques de todos los de su tipo.\n",
        "\n",
        "Veamos el dato con otro gráfico para ver la distribución."
      ],
      "metadata": {
        "id": "5IH_c3Urui8N"
      }
    },
    {
      "cell_type": "code",
      "source": [
        "plt.figure(figsize=(10, 6))\n",
        "data = [fire_attack, grass_attack]\n",
        "plt.boxplot(data, labels=['Fire', 'Grass'])\n",
        "plt.title('Distribución de Attack entre Pokémon de Tipo Fire y Grass')\n",
        "plt.ylabel('Valor de Attack')\n",
        "plt.grid(True)\n",
        "plt.show()"
      ],
      "metadata": {
        "colab": {
          "base_uri": "https://localhost:8080/",
          "height": 545
        },
        "id": "2hIlYjbTvwWH",
        "outputId": "00956c2a-4409-4b94-9301-8ab221028ec1"
      },
      "execution_count": null,
      "outputs": [
        {
          "output_type": "display_data",
          "data": {
            "text/plain": [
              "<Figure size 1000x600 with 1 Axes>"
            ],
            "image/png": "[encoded data removed]"
          },
          "metadata": {}
        }
      ]
    },
    {
      "cell_type": "markdown",
      "source": [
        "\n",
        "Acá podemos ver que, en lo que respecta de la mediana de los tipo Grass, está un poco mas abajo que la de los tipo Fire, por mas de que la caja es mas grande para el tipo Grass.\n",
        "\n",
        "Esto significa que la mediana de ataque para el tipo Fire es mas elevada que los del tipo Grass.\n",
        "\n",
        "Vemos que el Outlier del tipo Grass es mayor por 20 puntos, y eso puede representar un solo pokemon (un solo valor), que solo por curiosidad, veamos cuál es:"
      ],
      "metadata": {
        "id": "fDu7ZmsaxLdN"
      }
    },
    {
      "cell_type": "code",
      "source": [
        "#Separamos el dato de ataque\n",
        "max_fire_attack = fire_pokemon['attack'].max()\n",
        "max_grass_attack = grass_pokemon['attack'].max()\n",
        "\n",
        "# Y obtenemos el pokemon\n",
        "max_fire_pokemon = fire_pokemon[fire_pokemon['attack'] == max_fire_attack]\n",
        "max_grass_pokemon = grass_pokemon[grass_pokemon['attack'] == max_grass_attack]\n",
        "\n",
        "print('El Pokémon de tipo Fire con mayor valor de Attack es:')\n",
        "print(max_fire_pokemon[['name', 'attack']])\n",
        "print('--------')\n",
        "print('El Pokémon de tipo Grass con mayor valor de Attack es:')\n",
        "print(max_grass_pokemon[['name', 'attack']])"
      ],
      "metadata": {
        "colab": {
          "base_uri": "https://localhost:8080/"
        },
        "id": "VegmPc6xzJq5",
        "outputId": "b3c19497-6445-4a33-d507-ff95760a2574"
      },
      "execution_count": null,
      "outputs": [
        {
          "output_type": "stream",
          "name": "stdout",
          "text": [
            "El Pokémon de tipo Fire con mayor valor de Attack es:\n",
            "              name  attack\n",
            "302  Mega Blaziken     160\n",
            "--------\n",
            "El Pokémon de tipo Grass con mayor valor de Attack es:\n",
            "        name  attack\n",
            "917  Kartana     181\n"
          ]
        }
      ]
    },
    {
      "cell_type": "code",
      "source": [
        "#Veamos el segundo puesto del tipo Grass\n",
        "second_max_grass_attack = grass_pokemon[grass_pokemon['attack'] < max_grass_attack]['attack'].max()\n",
        "second_max_grass_pokemon = grass_pokemon[grass_pokemon['attack'] == second_max_grass_attack]\n",
        "second_max_fire_attack = fire_pokemon[fire_pokemon['attack'] < max_fire_attack]['attack'].max()\n",
        "second_max_fire_pokemon = fire_pokemon[fire_pokemon['attack'] == second_max_fire_attack]\n",
        "print('El Pokémon de tipo Fire con el segundo mayor valor de Attack es:')\n",
        "print(second_max_fire_pokemon[['name', 'attack']])\n",
        "print('--------')\n",
        "print('El Pokémon de tipo Grass con el segundo mayor valor de Attack es:')\n",
        "print(second_max_grass_pokemon[['name', 'attack']])\n"
      ],
      "metadata": {
        "colab": {
          "base_uri": "https://localhost:8080/"
        },
        "id": "Lk1FOpw20x_z",
        "outputId": "bb853774-180b-4f40-e9a6-530919fd3ba6"
      },
      "execution_count": null,
      "outputs": [
        {
          "output_type": "stream",
          "name": "stdout",
          "text": [
            "El Pokémon de tipo Fire con el segundo mayor valor de Attack es:\n",
            "                         name  attack\n",
            "641  Darmanitan Standard Mode     140\n",
            "--------\n",
            "El Pokémon de tipo Grass con el segundo mayor valor de Attack es:\n",
            "          name  attack\n",
            "335    Breloom     130\n",
            "904  Tapu-Bulu     130\n"
          ]
        }
      ]
    },
    {
      "cell_type": "markdown",
      "source": [
        "Lo que podemos leer de los datos expuestos es que la primera teoría **no está respaldada por los factos.**\n",
        "\n",
        " Si bien el outlier del tipo Grass es mayor por 20 puntos de ataque, representa solamente *un valor*, pero que la mayoría de los de tipo Fire tienen mas ataque que los tipo Grass.\n",
        "\n",
        " Vamos a ver el HP:"
      ],
      "metadata": {
        "id": "fBjY6pCV1v0k"
      }
    },
    {
      "cell_type": "code",
      "source": [
        "#Separemos el dato\n",
        "fire_hp = fire_pokemon['hp']\n",
        "grass_hp = grass_pokemon['hp']\n",
        "\n",
        "#Sumamos\n",
        "total_hp_fire = fire_hp.sum()\n",
        "total_hp_grass = grass_hp.sum()\n",
        "print('HP de los tipo fuego')\n",
        "print (total_hp_fire)\n",
        "print ('--------')\n",
        "print('HP de los tipo grass')\n",
        "print (total_hp_grass)"
      ],
      "metadata": {
        "colab": {
          "base_uri": "https://localhost:8080/"
        },
        "id": "MYSkSeahvYwB",
        "outputId": "8ab79abf-d0f8-4ade-cddd-6332b0980821"
      },
      "execution_count": null,
      "outputs": [
        {
          "output_type": "stream",
          "name": "stdout",
          "text": [
            "HP de los tipo fuego\n",
            "4098\n",
            "--------\n",
            "HP de los tipo grass\n",
            "5373\n"
          ]
        }
      ]
    },
    {
      "cell_type": "markdown",
      "source": [
        "Y veamos el gráfico."
      ],
      "metadata": {
        "id": "NBCYXD-l444k"
      }
    },
    {
      "cell_type": "code",
      "source": [
        "# Añadir una columna de tipo\n",
        "fire_hp = pd.DataFrame({'HP': fire_hp, 'Type': 'Fire'})\n",
        "grass_hp = pd.DataFrame({'HP': grass_hp, 'Type': 'Grass'})\n",
        "\n",
        "# Concatenar los DataFrames\n",
        "hp_data = pd.concat([fire_hp, grass_hp])\n",
        "\n",
        "# Gráfico de caja con Seaborn\n",
        "plt.figure(figsize=(10, 6))\n",
        "sns.boxplot(x='Type', y='HP', data=hp_data, palette=['orange', 'green'])\n",
        "plt.title('Distribución de HP de Pokémon de Tipo Fire y Grass')\n",
        "plt.ylabel('HP')\n",
        "plt.xlabel('Tipo de Pokémon')\n",
        "plt.show()"
      ],
      "metadata": {
        "colab": {
          "base_uri": "https://localhost:8080/",
          "height": 672
        },
        "id": "dIcAv9Sw3G9V",
        "outputId": "9bc71f59-bc6b-4ece-b09b-15629a6631c5"
      },
      "execution_count": null,
      "outputs": [
        {
          "output_type": "stream",
          "name": "stderr",
          "text": [
            "<ipython-input-17-7db60cd9d5f0>:10: FutureWarning: \n",
            "\n",
            "Passing `palette` without assigning `hue` is deprecated and will be removed in v0.14.0. Assign the `x` variable to `hue` and set `legend=False` for the same effect.\n",
            "\n",
            "  sns.boxplot(x='Type', y='HP', data=hp_data, palette=['orange', 'green'])\n"
          ]
        },
        {
          "output_type": "display_data",
          "data": {
            "text/plain": [
              "<Figure size 1000x600 with 1 Axes>"
            ],
            "image/png": "[encoded data removed]"
          },
          "metadata": {}
        }
      ]
    },
    {
      "cell_type": "markdown",
      "source": [
        "Veamos si ocurre lo mismo que en el attack."
      ],
      "metadata": {
        "id": "wC0XUutn47yX"
      }
    },
    {
      "cell_type": "code",
      "source": [
        "#Separamos el dato de ataque\n",
        "max_fire_hp = fire_pokemon['hp'].max()\n",
        "max_grass_hp = grass_pokemon['hp'].max()\n",
        "\n",
        "# Y obtenemos el pokemon\n",
        "max_hp_fire = fire_pokemon[fire_pokemon['hp'] == max_fire_hp]\n",
        "max_hp_grass = grass_pokemon[grass_pokemon['hp'] == max_grass_hp]\n",
        "\n",
        "print('El Pokémon de tipo Fire con mayor valor de HP es:')\n",
        "print(max_hp_fire[['name', 'hp']])\n",
        "print('--------')\n",
        "print('El Pokémon de tipo Grass con mayor valor de HP es:')\n",
        "print(max_hp_grass[['name', 'hp']])"
      ],
      "metadata": {
        "colab": {
          "base_uri": "https://localhost:8080/"
        },
        "id": "bbzS9K4d4__g",
        "outputId": "65a974d8-c9d6-48a0-ef66-012e5bfdd7f4"
      },
      "execution_count": null,
      "outputs": [
        {
          "output_type": "stream",
          "name": "stdout",
          "text": [
            "El Pokémon de tipo Fire con mayor valor de HP es:\n",
            "      name   hp\n",
            "286  Entei  115\n",
            "--------\n",
            "El Pokémon de tipo Grass con mayor valor de HP es:\n",
            "       name   hp\n",
            "771  Gogoat  123\n"
          ]
        }
      ]
    },
    {
      "cell_type": "code",
      "source": [
        "#Y ahora el segundo puesto\n",
        "second_max_grass_hp = grass_pokemon[grass_pokemon['hp'] < max_grass_hp]['hp'].max()\n",
        "second_max_grass_pokemon = grass_pokemon[grass_pokemon['hp'] == second_max_grass_hp]\n",
        "second_max_fire_hp = fire_pokemon[fire_pokemon['hp'] < max_fire_hp]['hp'].max()\n",
        "second_max_fire_pokemon = fire_pokemon[fire_pokemon['hp'] == second_max_fire_hp]\n",
        "print('El Pokémon de tipo Fire con el segundo mayor valor de HP es:')\n",
        "print(second_max_fire_pokemon[['name', 'hp']])\n",
        "print('--------')\n",
        "print('El Pokémon de tipo Grass con el segundo mayor valor de HP es:')\n",
        "print(second_max_grass_pokemon[['name', 'hp']])"
      ],
      "metadata": {
        "colab": {
          "base_uri": "https://localhost:8080/"
        },
        "id": "bgg4Lzvd5193",
        "outputId": "fd72b5b3-56f1-4d24-bbf5-4028d134d4f1"
      },
      "execution_count": null,
      "outputs": [
        {
          "output_type": "stream",
          "name": "stdout",
          "text": [
            "El Pokémon de tipo Fire con el segundo mayor valor de HP es:\n",
            "       name   hp\n",
            "584  Emboar  110\n",
            "--------\n",
            "El Pokémon de tipo Grass con el segundo mayor valor de HP es:\n",
            "          name   hp\n",
            "681  Amoonguss  114\n"
          ]
        }
      ]
    },
    {
      "cell_type": "markdown",
      "source": [
        "Por lo que nos dicen los datos, podemos ver que los últimos dos en las listas, tiende a haber una inclinación hacia los tipo Grass en cuanto a cantidad de HP, sin embargo la mediana de estos demuestra lo contrario. Es poca la diferencia del promedio mayor por parte de los tipo Fire.\n",
        "\n",
        "Lo que singifica que la segunda teoría **no está respaldada por los factos.**\n",
        "\n",
        "\n",
        "\n",
        "---\n",
        "\n"
      ],
      "metadata": {
        "id": "3Gacsl-A6pc8"
      }
    },
    {
      "cell_type": "markdown",
      "source": [
        "# **Utilicemos un algoritmo supervisado para explorar la siguiente hipótesis:**\n",
        "\n",
        "**Hipótesis:** \"El tipo y las estadísticas de un Pokémon pueden predecir su generación.\"\n",
        "\n",
        "Esta hipótesis sugiere que las características del Pokémon (como Type 1, Type 2, Ataque, Vida, Defensa, etc.) tienen una relación significativa con la generación a la que pertenece (Generation).\n",
        "\n",
        "**Objetivo:**\n",
        "El objetivo es entrenar un modelo de clasificación que utilice las características de los Pokémon para predecir su generación.\n",
        "\n",
        "*Exploremos los datos.*"
      ],
      "metadata": {
        "id": "WTYBhdAj4bVp"
      }
    },
    {
      "cell_type": "code",
      "source": [
        "print(pokemon.head())"
      ],
      "metadata": {
        "colab": {
          "base_uri": "https://localhost:8080/"
        },
        "id": "wg9SQHff4vek",
        "outputId": "48a54559-5be9-4f4b-aca9-a045ff026130"
      },
      "execution_count": null,
      "outputs": [
        {
          "output_type": "stream",
          "name": "stdout",
          "text": [
            "     #           name type 1  type 2  total  hp  attack  defense  sp_atk  \\\n",
            "0  1.0      Bulbasaur  Grass  Poison    318  45      49       49      65   \n",
            "1  2.0        Ivysaur  Grass  Poison    405  60      62       63      80   \n",
            "2  3.0       Venusaur  Grass  Poison    525  80      82       83     100   \n",
            "3  3.1  Mega Venusaur  Grass  Poison    625  80     100      123     122   \n",
            "4  4.0     Charmander   Fire     NaN    309  39      52       43      60   \n",
            "\n",
            "   sp_def  speed   ability1     ability2 ability3  generation legenday  \\\n",
            "0      65     45   Overgrow  Chlorophyll      NaN           1    FALSE   \n",
            "1      80     60   Overgrow  Chlorophyll      NaN           1    FALSE   \n",
            "2     100     80   Overgrow  Chlorophyll      NaN           1    FALSE   \n",
            "3     120     80  Thick Fat          NaN      NaN           1    FALSE   \n",
            "4      50     65      Blaze  Solar Power      NaN           1    FALSE   \n",
            "\n",
            "   mythical  \n",
            "0     False  \n",
            "1     False  \n",
            "2     False  \n",
            "3     False  \n",
            "4     False  \n"
          ]
        }
      ]
    },
    {
      "cell_type": "markdown",
      "source": [
        "Hay muchos datos que, para lo que vamos a analizar, no son tan importantes.\n",
        "\n",
        "**Decisión:** Borrar datos irrelevantes para el caso."
      ],
      "metadata": {
        "id": "F47SbW8G5ku9"
      }
    },
    {
      "cell_type": "code",
      "source": [
        "columnas_borrar = [ 'name', '#', 'ability1', 'ability2', 'ability3', 'mythical', 'legenday']\n",
        "pokemon = pokemon.drop(columns=columnas_borrar)\n",
        "pokemon.head()"
      ],
      "metadata": {
        "colab": {
          "base_uri": "https://localhost:8080/",
          "height": 206
        },
        "id": "PA9xi3Ql5bAM",
        "outputId": "9f537b32-d569-4207-ba58-248a4311691d"
      },
      "execution_count": null,
      "outputs": [
        {
          "output_type": "execute_result",
          "data": {
            "text/plain": [
              "  type 1  type 2  total  hp  attack  defense  sp_atk  sp_def  speed  \\\n",
              "0  Grass  Poison    318  45      49       49      65      65     45   \n",
              "1  Grass  Poison    405  60      62       63      80      80     60   \n",
              "2  Grass  Poison    525  80      82       83     100     100     80   \n",
              "3  Grass  Poison    625  80     100      123     122     120     80   \n",
              "4   Fire     NaN    309  39      52       43      60      50     65   \n",
              "\n",
              "   generation  \n",
              "0           1  \n",
              "1           1  \n",
              "2           1  \n",
              "3           1  \n",
              "4           1  "
            ],
            "text/html": [
              "\n",
              "  <div id=\"df-5b84cc76-769c-4bea-b2b7-f88bba9d19d3\" class=\"colab-df-container\">\n",
              "    <div>\n",
              "<style scoped>\n",
              "    .dataframe tbody tr th:only-of-type {\n",
              "        vertical-align: middle;\n",
              "    }\n",
              "\n",
              "    .dataframe tbody tr th {\n",
              "        vertical-align: top;\n",
              "    }\n",
              "\n",
              "    .dataframe thead th {\n",
              "        text-align: right;\n",
              "    }\n",
              "</style>\n",
              "<table border=\"1\" class=\"dataframe\">\n",
              "  <thead>\n",
              "    <tr style=\"text-align: right;\">\n",
              "      <th></th>\n",
              "      <th>type 1</th>\n",
              "      <th>type 2</th>\n",
              "      <th>total</th>\n",
              "      <th>hp</th>\n",
              "      <th>attack</th>\n",
              "      <th>defense</th>\n",
              "      <th>sp_atk</th>\n",
              "      <th>sp_def</th>\n",
              "      <th>speed</th>\n",
              "      <th>generation</th>\n",
              "    </tr>\n",
              "  </thead>\n",
              "  <tbody>\n",
              "    <tr>\n",
              "      <th>0</th>\n",
              "      <td>Grass</td>\n",
              "      <td>Poison</td>\n",
              "      <td>318</td>\n",
              "      <td>45</td>\n",
              "      <td>49</td>\n",
              "      <td>49</td>\n",
              "      <td>65</td>\n",
              "      <td>65</td>\n",
              "      <td>45</td>\n",
              "      <td>1</td>\n",
              "    </tr>\n",
              "    <tr>\n",
              "      <th>1</th>\n",
              "      <td>Grass</td>\n",
              "      <td>Poison</td>\n",
              "      <td>405</td>\n",
              "      <td>60</td>\n",
              "      <td>62</td>\n",
              "      <td>63</td>\n",
              "      <td>80</td>\n",
              "      <td>80</td>\n",
              "      <td>60</td>\n",
              "      <td>1</td>\n",
              "    </tr>\n",
              "    <tr>\n",
              "      <th>2</th>\n",
              "      <td>Grass</td>\n",
              "      <td>Poison</td>\n",
              "      <td>525</td>\n",
              "      <td>80</td>\n",
              "      <td>82</td>\n",
              "      <td>83</td>\n",
              "      <td>100</td>\n",
              "      <td>100</td>\n",
              "      <td>80</td>\n",
              "      <td>1</td>\n",
              "    </tr>\n",
              "    <tr>\n",
              "      <th>3</th>\n",
              "      <td>Grass</td>\n",
              "      <td>Poison</td>\n",
              "      <td>625</td>\n",
              "      <td>80</td>\n",
              "      <td>100</td>\n",
              "      <td>123</td>\n",
              "      <td>122</td>\n",
              "      <td>120</td>\n",
              "      <td>80</td>\n",
              "      <td>1</td>\n",
              "    </tr>\n",
              "    <tr>\n",
              "      <th>4</th>\n",
              "      <td>Fire</td>\n",
              "      <td>NaN</td>\n",
              "      <td>309</td>\n",
              "      <td>39</td>\n",
              "      <td>52</td>\n",
              "      <td>43</td>\n",
              "      <td>60</td>\n",
              "      <td>50</td>\n",
              "      <td>65</td>\n",
              "      <td>1</td>\n",
              "    </tr>\n",
              "  </tbody>\n",
              "</table>\n",
              "</div>\n",
              "    <div class=\"colab-df-buttons\">\n",
              "\n",
              "  <div class=\"colab-df-container\">\n",
              "    <button class=\"colab-df-convert\" onclick=\"convertToInteractive('df-5b84cc76-769c-4bea-b2b7-f88bba9d19d3')\"\n",
              "            title=\"Convert this dataframe to an interactive table.\"\n",
              "            style=\"display:none;\">\n",
              "\n",
              "  <svg xmlns=\"http://www.w3.org/2000/svg\" height=\"24px\" viewBox=\"0 -960 960 960\">\n",
              "    <path d=\"M120-120v-720h720v720H120Zm60-500h600v-160H180v160Zm220 220h160v-160H400v160Zm0 220h160v-160H400v160ZM180-400h160v-160H180v160Zm440 0h160v-160H620v160ZM180-180h160v-160H180v160Zm440 0h160v-160H620v160Z\"/>\n",
              "  </svg>\n",
              "    </button>\n",
              "\n",
              "  <style>\n",
              "    .colab-df-container {\n",
              "      display:flex;\n",
              "      gap: 12px;\n",
              "    }\n",
              "\n",
              "    .colab-df-convert {\n",
              "      background-color: #E8F0FE;\n",
              "      border: none;\n",
              "      border-radius: 50%;\n",
              "      cursor: pointer;\n",
              "      display: none;\n",
              "      fill: #1967D2;\n",
              "      height: 32px;\n",
              "      padding: 0 0 0 0;\n",
              "      width: 32px;\n",
              "    }\n",
              "\n",
              "    .colab-df-convert:hover {\n",
              "      background-color: #E2EBFA;\n",
              "      box-shadow: 0px 1px 2px rgba(60, 64, 67, 0.3), 0px 1px 3px 1px rgba(60, 64, 67, 0.15);\n",
              "      fill: #174EA6;\n",
              "    }\n",
              "\n",
              "    .colab-df-buttons div {\n",
              "      margin-bottom: 4px;\n",
              "    }\n",
              "\n",
              "    [theme=dark] .colab-df-convert {\n",
              "      background-color: #3B4455;\n",
              "      fill: #D2E3FC;\n",
              "    }\n",
              "\n",
              "    [theme=dark] .colab-df-convert:hover {\n",
              "      background-color: #434B5C;\n",
              "      box-shadow: 0px 1px 3px 1px rgba(0, 0, 0, 0.15);\n",
              "      filter: drop-shadow(0px 1px 2px rgba(0, 0, 0, 0.3));\n",
              "      fill: #FFFFFF;\n",
              "    }\n",
              "  </style>\n",
              "\n",
              "    <script>\n",
              "      const buttonEl =\n",
              "        document.querySelector('#df-5b84cc76-769c-4bea-b2b7-f88bba9d19d3 button.colab-df-convert');\n",
              "      buttonEl.style.display =\n",
              "        google.colab.kernel.accessAllowed ? 'block' : 'none';\n",
              "\n",
              "      async function convertToInteractive(key) {\n",
              "        const element = document.querySelector('#df-5b84cc76-769c-4bea-b2b7-f88bba9d19d3');\n",
              "        const dataTable =\n",
              "          await google.colab.kernel.invokeFunction('convertToInteractive',\n",
              "                                                    [key], {});\n",
              "        if (!dataTable) return;\n",
              "\n",
              "        const docLinkHtml = 'Like what you see? Visit the ' +\n",
              "          '<a target=\"_blank\" href=https://colab.research.google.com/notebooks/data_table.ipynb>data table notebook</a>'\n",
              "          + ' to learn more about interactive tables.';\n",
              "        element.innerHTML = '';\n",
              "        dataTable['output_type'] = 'display_data';\n",
              "        await google.colab.output.renderOutput(dataTable, element);\n",
              "        const docLink = document.createElement('div');\n",
              "        docLink.innerHTML = docLinkHtml;\n",
              "        element.appendChild(docLink);\n",
              "      }\n",
              "    </script>\n",
              "  </div>\n",
              "\n",
              "\n",
              "<div id=\"df-a61a028b-83e6-4049-9619-31a94f1a5e52\">\n",
              "  <button class=\"colab-df-quickchart\" onclick=\"quickchart('df-a61a028b-83e6-4049-9619-31a94f1a5e52')\"\n",
              "            title=\"Suggest charts\"\n",
              "            style=\"display:none;\">\n",
              "\n",
              "<svg xmlns=\"http://www.w3.org/2000/svg\" height=\"24px\"viewBox=\"0 0 24 24\"\n",
              "     width=\"24px\">\n",
              "    <g>\n",
              "        <path d=\"M19 3H5c-1.1 0-2 .9-2 2v14c0 1.1.9 2 2 2h14c1.1 0 2-.9 2-2V5c0-1.1-.9-2-2-2zM9 17H7v-7h2v7zm4 0h-2V7h2v10zm4 0h-2v-4h2v4z\"/>\n",
              "    </g>\n",
              "</svg>\n",
              "  </button>\n",
              "\n",
              "<style>\n",
              "  .colab-df-quickchart {\n",
              "      --bg-color: #E8F0FE;\n",
              "      --fill-color: #1967D2;\n",
              "      --hover-bg-color: #E2EBFA;\n",
              "      --hover-fill-color: #174EA6;\n",
              "      --disabled-fill-color: #AAA;\n",
              "      --disabled-bg-color: #DDD;\n",
              "  }\n",
              "\n",
              "  [theme=dark] .colab-df-quickchart {\n",
              "      --bg-color: #3B4455;\n",
              "      --fill-color: #D2E3FC;\n",
              "      --hover-bg-color: #434B5C;\n",
              "      --hover-fill-color: #FFFFFF;\n",
              "      --disabled-bg-color: #3B4455;\n",
              "      --disabled-fill-color: #666;\n",
              "  }\n",
              "\n",
              "  .colab-df-quickchart {\n",
              "    background-color: var(--bg-color);\n",
              "    border: none;\n",
              "    border-radius: 50%;\n",
              "    cursor: pointer;\n",
              "    display: none;\n",
              "    fill: var(--fill-color);\n",
              "    height: 32px;\n",
              "    padding: 0;\n",
              "    width: 32px;\n",
              "  }\n",
              "\n",
              "  .colab-df-quickchart:hover {\n",
              "    background-color: var(--hover-bg-color);\n",
              "    box-shadow: 0 1px 2px rgba(60, 64, 67, 0.3), 0 1px 3px 1px rgba(60, 64, 67, 0.15);\n",
              "    fill: var(--button-hover-fill-color);\n",
              "  }\n",
              "\n",
              "  .colab-df-quickchart-complete:disabled,\n",
              "  .colab-df-quickchart-complete:disabled:hover {\n",
              "    background-color: var(--disabled-bg-color);\n",
              "    fill: var(--disabled-fill-color);\n",
              "    box-shadow: none;\n",
              "  }\n",
              "\n",
              "  .colab-df-spinner {\n",
              "    border: 2px solid var(--fill-color);\n",
              "    border-color: transparent;\n",
              "    border-bottom-color: var(--fill-color);\n",
              "    animation:\n",
              "      spin 1s steps(1) infinite;\n",
              "  }\n",
              "\n",
              "  @keyframes spin {\n",
              "    0% {\n",
              "      border-color: transparent;\n",
              "      border-bottom-color: var(--fill-color);\n",
              "      border-left-color: var(--fill-color);\n",
              "    }\n",
              "    20% {\n",
              "      border-color: transparent;\n",
              "      border-left-color: var(--fill-color);\n",
              "      border-top-color: var(--fill-color);\n",
              "    }\n",
              "    30% {\n",
              "      border-color: transparent;\n",
              "      border-left-color: var(--fill-color);\n",
              "      border-top-color: var(--fill-color);\n",
              "      border-right-color: var(--fill-color);\n",
              "    }\n",
              "    40% {\n",
              "      border-color: transparent;\n",
              "      border-right-color: var(--fill-color);\n",
              "      border-top-color: var(--fill-color);\n",
              "    }\n",
              "    60% {\n",
              "      border-color: transparent;\n",
              "      border-right-color: var(--fill-color);\n",
              "    }\n",
              "    80% {\n",
              "      border-color: transparent;\n",
              "      border-right-color: var(--fill-color);\n",
              "      border-bottom-color: var(--fill-color);\n",
              "    }\n",
              "    90% {\n",
              "      border-color: transparent;\n",
              "      border-bottom-color: var(--fill-color);\n",
              "    }\n",
              "  }\n",
              "</style>\n",
              "\n",
              "  <script>\n",
              "    async function quickchart(key) {\n",
              "      const quickchartButtonEl =\n",
              "        document.querySelector('#' + key + ' button');\n",
              "      quickchartButtonEl.disabled = true;  // To prevent multiple clicks.\n",
              "      quickchartButtonEl.classList.add('colab-df-spinner');\n",
              "      try {\n",
              "        const charts = await google.colab.kernel.invokeFunction(\n",
              "            'suggestCharts', [key], {});\n",
              "      } catch (error) {\n",
              "        console.error('Error during call to suggestCharts:', error);\n",
              "      }\n",
              "      quickchartButtonEl.classList.remove('colab-df-spinner');\n",
              "      quickchartButtonEl.classList.add('colab-df-quickchart-complete');\n",
              "    }\n",
              "    (() => {\n",
              "      let quickchartButtonEl =\n",
              "        document.querySelector('#df-a61a028b-83e6-4049-9619-31a94f1a5e52 button');\n",
              "      quickchartButtonEl.style.display =\n",
              "        google.colab.kernel.accessAllowed ? 'block' : 'none';\n",
              "    })();\n",
              "  </script>\n",
              "</div>\n",
              "\n",
              "    </div>\n",
              "  </div>\n"
            ],
            "application/vnd.google.colaboratory.intrinsic+json": {
              "type": "dataframe",
              "variable_name": "pokemon",
              "summary": "{\n  \"name\": \"pokemon\",\n  \"rows\": 933,\n  \"fields\": [\n    {\n      \"column\": \"type 1\",\n      \"properties\": {\n        \"dtype\": \"category\",\n        \"num_unique_values\": 20,\n        \"samples\": [\n          \"Grass\",\n          \"Flying\",\n          \"Ghost\"\n        ],\n        \"semantic_type\": \"\",\n        \"description\": \"\"\n      }\n    },\n    {\n      \"column\": \"type 2\",\n      \"properties\": {\n        \"dtype\": \"category\",\n        \"num_unique_values\": 18,\n        \"samples\": [\n          \"Poison\",\n          \"Flying\",\n          \"Grass\"\n        ],\n        \"semantic_type\": \"\",\n        \"description\": \"\"\n      }\n    },\n    {\n      \"column\": \"total\",\n      \"properties\": {\n        \"dtype\": \"number\",\n        \"std\": 120,\n        \"min\": 175,\n        \"max\": 780,\n        \"num_unique_values\": 209,\n        \"samples\": [\n          365,\n          489,\n          415\n        ],\n        \"semantic_type\": \"\",\n        \"description\": \"\"\n      }\n    },\n    {\n      \"column\": \"hp\",\n      \"properties\": {\n        \"dtype\": \"number\",\n        \"std\": 26,\n        \"min\": 1,\n        \"max\": 255,\n        \"num_unique_values\": 99,\n        \"samples\": [\n          53,\n          106,\n          47\n        ],\n        \"semantic_type\": \"\",\n        \"description\": \"\"\n      }\n    },\n    {\n      \"column\": \"attack\",\n      \"properties\": {\n        \"dtype\": \"number\",\n        \"std\": 32,\n        \"min\": 5,\n        \"max\": 190,\n        \"num_unique_values\": 120,\n        \"samples\": [\n          5,\n          155,\n          52\n        ],\n        \"semantic_type\": \"\",\n        \"description\": \"\"\n      }\n    },\n    {\n      \"column\": \"defense\",\n      \"properties\": {\n        \"dtype\": \"number\",\n        \"std\": 31,\n        \"min\": 5,\n        \"max\": 230,\n        \"num_unique_values\": 113,\n        \"samples\": [\n          56,\n          43,\n          160\n        ],\n        \"semantic_type\": \"\",\n        \"description\": \"\"\n      }\n    },\n    {\n      \"column\": \"sp_atk\",\n      \"properties\": {\n        \"dtype\": \"number\",\n        \"std\": 33,\n        \"min\": 10,\n        \"max\": 194,\n        \"num_unique_values\": 116,\n        \"samples\": [\n          68,\n          60,\n          83\n        ],\n        \"semantic_type\": \"\",\n        \"description\": \"\"\n      }\n    },\n    {\n      \"column\": \"sp_def\",\n      \"properties\": {\n        \"dtype\": \"number\",\n        \"std\": 27,\n        \"min\": 20,\n        \"max\": 230,\n        \"num_unique_values\": 101,\n        \"samples\": [\n          98,\n          44,\n          59\n        ],\n        \"semantic_type\": \"\",\n        \"description\": \"\"\n      }\n    },\n    {\n      \"column\": \"speed\",\n      \"properties\": {\n        \"dtype\": \"number\",\n        \"std\": 29,\n        \"min\": 5,\n        \"max\": 180,\n        \"num_unique_values\": 118,\n        \"samples\": [\n          23,\n          44,\n          100\n        ],\n        \"semantic_type\": \"\",\n        \"description\": \"\"\n      }\n    },\n    {\n      \"column\": \"generation\",\n      \"properties\": {\n        \"dtype\": \"number\",\n        \"std\": 1,\n        \"min\": 1,\n        \"max\": 7,\n        \"num_unique_values\": 7,\n        \"samples\": [\n          1,\n          2,\n          6\n        ],\n        \"semantic_type\": \"\",\n        \"description\": \"\"\n      }\n    }\n  ]\n}"
            }
          },
          "metadata": {},
          "execution_count": 21
        }
      ]
    },
    {
      "cell_type": "markdown",
      "source": [
        "Mucho mejor, sigamos."
      ],
      "metadata": {
        "id": "r-JYAnBk6sIw"
      }
    },
    {
      "cell_type": "code",
      "source": [
        "#Importamos la libreria\n",
        "from sklearn.metrics import classification_report, accuracy_score\n",
        "from sklearn import metrics\n",
        "from sklearn.metrics import confusion_matrix, ConfusionMatrixDisplay\n",
        "\n",
        "# Separamos variables predictoras y variable objetivo\n",
        "X = pokemon.drop('generation', axis=1)\n",
        "X = pd.get_dummies(X)\n",
        "y = pokemon['generation']\n",
        "\n",
        "# Dividimos en conjuntos de entrenamiento y prueba\n",
        "X_train, X_test, y_train, y_test = train_test_split(X, y, test_size=0.3, random_state=0)\n",
        "\n",
        "# Crear y entrenar el modelo de Random Forest\n",
        "model = RandomForestClassifier(n_estimators=100, random_state=0)\n",
        "model.fit(X_train, y_train)\n",
        "\n",
        "# Predecir en el conjunto de prueba\n",
        "y_pred = model.predict(X_test)"
      ],
      "metadata": {
        "id": "XPlSv7-d9eve"
      },
      "execution_count": null,
      "outputs": []
    },
    {
      "cell_type": "markdown",
      "source": [
        "\n",
        "Testeamos\n"
      ],
      "metadata": {
        "id": "vHuG24Rx6nbs"
      }
    },
    {
      "cell_type": "code",
      "source": [
        "# Create confusion matrix and display it\n",
        "cm = confusion_matrix(y_test, y_pred)\n",
        "# Get unique class labels from y_test\n",
        "unique_labels = np.unique(y_test)\n",
        "disp = ConfusionMatrixDisplay(confusion_matrix=cm, display_labels=unique_labels)\n",
        "disp.plot(cmap='Blues')\n",
        "plt.show()"
      ],
      "metadata": {
        "colab": {
          "base_uri": "https://localhost:8080/",
          "height": 449
        },
        "id": "ilGPIunt7CVm",
        "outputId": "fdec831e-eeae-4c19-85c7-118ae3c4853c"
      },
      "execution_count": null,
      "outputs": [
        {
          "output_type": "display_data",
          "data": {
            "text/plain": [
              "<Figure size 640x480 with 2 Axes>"
            ],
            "image/png": "[encoded data removed]"
          },
          "metadata": {}
        }
      ]
    },
    {
      "cell_type": "code",
      "source": [
        "confusion = metrics.confusion_matrix(y_test, y_pred)\n",
        "confusion.ravel()"
      ],
      "metadata": {
        "colab": {
          "base_uri": "https://localhost:8080/"
        },
        "id": "7gUX37ZV9GrC",
        "outputId": "1ea906e4-5040-42df-90ca-20bbfdd6a32b"
      },
      "execution_count": null,
      "outputs": [
        {
          "output_type": "execute_result",
          "data": {
            "text/plain": [
              "array([32,  3,  4,  2,  7,  1,  0, 13,  5,  8,  1,  4,  1,  2, 11,  5, 13,\n",
              "        4, 16,  0,  5,  9,  1,  5, 10,  7,  1,  0, 10,  1,  4,  8, 24,  0,\n",
              "        1,  4,  1,  6,  2,  6,  8,  0, 10,  2,  5,  3,  8,  2,  5])"
            ]
          },
          "metadata": {},
          "execution_count": 44
        }
      ]
    },
    {
      "cell_type": "code",
      "source": [
        "# Evaluar el modelo\n",
        "print(\"Classification Report:\")\n",
        "print(classification_report(y_test, y_pred))\n",
        "\n",
        "print(\"Accuracy Score:\")\n",
        "print(accuracy_score(y_test, y_pred))"
      ],
      "metadata": {
        "colab": {
          "base_uri": "https://localhost:8080/"
        },
        "id": "Nu1gIfVg9Epm",
        "outputId": "d0f65b33-38a8-463a-a4bb-b27eda85cd77"
      },
      "execution_count": null,
      "outputs": [
        {
          "output_type": "stream",
          "name": "stdout",
          "text": [
            "Classification Report:\n",
            "              precision    recall  f1-score   support\n",
            "\n",
            "           1       0.36      0.65      0.46        49\n",
            "           2       0.28      0.15      0.19        34\n",
            "           3       0.29      0.24      0.26        54\n",
            "           4       0.33      0.30      0.32        33\n",
            "           5       0.33      0.50      0.40        48\n",
            "           6       0.62      0.30      0.40        27\n",
            "           7       0.38      0.14      0.21        35\n",
            "\n",
            "    accuracy                           0.35       280\n",
            "   macro avg       0.37      0.33      0.32       280\n",
            "weighted avg       0.36      0.35      0.33       280\n",
            "\n",
            "Accuracy Score:\n",
            "0.3464285714285714\n"
          ]
        }
      ]
    },
    {
      "cell_type": "markdown",
      "source": [
        "Por lo que podemos observar, el algoritmo tiene un **Accuracy** del **0.3**. Lo cual deja asentado que este algoritmo especificamente no está siendo preciso en las predicciones que se le planteó.\n",
        "\n",
        "Considerando la cantidad de datos que contiene mi Data set, lo más probable es que este caso refiera a un *Overfitting*, y requiera un dataset con mayor cantidad de datos.\n",
        "\n",
        "No me voy a quedar con la duda, así que voy a intentarlo con el conjunto de entranmiento para saber si avanzar o buscar otros modelos."
      ],
      "metadata": {
        "id": "LlvtLviC7C9h"
      }
    },
    {
      "cell_type": "code",
      "source": [
        "# Predecir en el conjunto de entrenamiento\n",
        "y_predi = model.predict(X_train)\n",
        "\n",
        "# Evaluar el modelo\n",
        "print(\"Classification Report:\")\n",
        "print(classification_report(y_train, y_predi))\n",
        "\n",
        "print(\"Accuracy Score:\")\n",
        "print(accuracy_score(y_train, y_predi))"
      ],
      "metadata": {
        "colab": {
          "base_uri": "https://localhost:8080/"
        },
        "id": "Zv5BDtoSEDXA",
        "outputId": "f3691fb2-3403-44be-958b-733dc2febdba"
      },
      "execution_count": null,
      "outputs": [
        {
          "output_type": "stream",
          "name": "stdout",
          "text": [
            "Classification Report:\n",
            "              precision    recall  f1-score   support\n",
            "\n",
            "           1       0.99      1.00      1.00       139\n",
            "           2       1.00      0.99      0.99        73\n",
            "           3       1.00      1.00      1.00       108\n",
            "           4       1.00      1.00      1.00        88\n",
            "           5       1.00      1.00      1.00       122\n",
            "           6       1.00      1.00      1.00        57\n",
            "           7       1.00      1.00      1.00        66\n",
            "\n",
            "    accuracy                           1.00       653\n",
            "   macro avg       1.00      1.00      1.00       653\n",
            "weighted avg       1.00      1.00      1.00       653\n",
            "\n",
            "Accuracy Score:\n",
            "0.998468606431853\n"
          ]
        }
      ]
    },
    {
      "cell_type": "markdown",
      "source": [
        "Definitivamente, en este caso, necesito mas datos los cuales analizar para que este modelo sea preciso.\n",
        "\n",
        "*Voy a intentar con otro modelo.*"
      ],
      "metadata": {
        "id": "w38sd-A2_6Cs"
      }
    },
    {
      "cell_type": "code",
      "source": [
        "from sklearn.svm import SVC\n",
        "# Crear una instancia del modelo SVM\n",
        "svm_model = SVC(kernel='linear', C=1.0, random_state=0)\n",
        "# Entrenar el modelo SVM\n",
        "svm_model.fit(X_train, y_train)"
      ],
      "metadata": {
        "colab": {
          "base_uri": "https://localhost:8080/",
          "height": 75
        },
        "id": "pGUnDsfrLbv1",
        "outputId": "a63fd80d-6aa2-442c-9f74-0712cc4fc4ee"
      },
      "execution_count": null,
      "outputs": [
        {
          "output_type": "execute_result",
          "data": {
            "text/plain": [
              "SVC(kernel='linear', random_state=0)"
            ],
            "text/html": [
              "<style>#sk-container-id-4 {color: black;background-color: white;}#sk-container-id-4 pre{padding: 0;}#sk-container-id-4 div.sk-toggleable {background-color: white;}#sk-container-id-4 label.sk-toggleable__label {cursor: pointer;display: block;width: 100%;margin-bottom: 0;padding: 0.3em;box-sizing: border-box;text-align: center;}#sk-container-id-4 label.sk-toggleable__label-arrow:before {content: \"▸\";float: left;margin-right: 0.25em;color: #696969;}#sk-container-id-4 label.sk-toggleable__label-arrow:hover:before {color: black;}#sk-container-id-4 div.sk-estimator:hover label.sk-toggleable__label-arrow:before {color: black;}#sk-container-id-4 div.sk-toggleable__content {max-height: 0;max-width: 0;overflow: hidden;text-align: left;background-color: #f0f8ff;}#sk-container-id-4 div.sk-toggleable__content pre {margin: 0.2em;color: black;border-radius: 0.25em;background-color: #f0f8ff;}#sk-container-id-4 input.sk-toggleable__control:checked~div.sk-toggleable__content {max-height: 200px;max-width: 100%;overflow: auto;}#sk-container-id-4 input.sk-toggleable__control:checked~label.sk-toggleable__label-arrow:before {content: \"▾\";}#sk-container-id-4 div.sk-estimator input.sk-toggleable__control:checked~label.sk-toggleable__label {background-color: #d4ebff;}#sk-container-id-4 div.sk-label input.sk-toggleable__control:checked~label.sk-toggleable__label {background-color: #d4ebff;}#sk-container-id-4 input.sk-hidden--visually {border: 0;clip: rect(1px 1px 1px 1px);clip: rect(1px, 1px, 1px, 1px);height: 1px;margin: -1px;overflow: hidden;padding: 0;position: absolute;width: 1px;}#sk-container-id-4 div.sk-estimator {font-family: monospace;background-color: #f0f8ff;border: 1px dotted black;border-radius: 0.25em;box-sizing: border-box;margin-bottom: 0.5em;}#sk-container-id-4 div.sk-estimator:hover {background-color: #d4ebff;}#sk-container-id-4 div.sk-parallel-item::after {content: \"\";width: 100%;border-bottom: 1px solid gray;flex-grow: 1;}#sk-container-id-4 div.sk-label:hover label.sk-toggleable__label {background-color: #d4ebff;}#sk-container-id-4 div.sk-serial::before {content: \"\";position: absolute;border-left: 1px solid gray;box-sizing: border-box;top: 0;bottom: 0;left: 50%;z-index: 0;}#sk-container-id-4 div.sk-serial {display: flex;flex-direction: column;align-items: center;background-color: white;padding-right: 0.2em;padding-left: 0.2em;position: relative;}#sk-container-id-4 div.sk-item {position: relative;z-index: 1;}#sk-container-id-4 div.sk-parallel {display: flex;align-items: stretch;justify-content: center;background-color: white;position: relative;}#sk-container-id-4 div.sk-item::before, #sk-container-id-4 div.sk-parallel-item::before {content: \"\";position: absolute;border-left: 1px solid gray;box-sizing: border-box;top: 0;bottom: 0;left: 50%;z-index: -1;}#sk-container-id-4 div.sk-parallel-item {display: flex;flex-direction: column;z-index: 1;position: relative;background-color: white;}#sk-container-id-4 div.sk-parallel-item:first-child::after {align-self: flex-end;width: 50%;}#sk-container-id-4 div.sk-parallel-item:last-child::after {align-self: flex-start;width: 50%;}#sk-container-id-4 div.sk-parallel-item:only-child::after {width: 0;}#sk-container-id-4 div.sk-dashed-wrapped {border: 1px dashed gray;margin: 0 0.4em 0.5em 0.4em;box-sizing: border-box;padding-bottom: 0.4em;background-color: white;}#sk-container-id-4 div.sk-label label {font-family: monospace;font-weight: bold;display: inline-block;line-height: 1.2em;}#sk-container-id-4 div.sk-label-container {text-align: center;}#sk-container-id-4 div.sk-container {/* jupyter's `normalize.less` sets `[hidden] { display: none; }` but bootstrap.min.css set `[hidden] { display: none !important; }` so we also need the `!important` here to be able to override the default hidden behavior on the sphinx rendered scikit-learn.org. See: https://github.com/scikit-learn/scikit-learn/issues/21755 */display: inline-block !important;position: relative;}#sk-container-id-4 div.sk-text-repr-fallback {display: none;}</style><div id=\"sk-container-id-4\" class=\"sk-top-container\"><div class=\"sk-text-repr-fallback\"><pre>SVC(kernel=&#x27;linear&#x27;, random_state=0)</pre><b>In a Jupyter environment, please rerun this cell to show the HTML representation or trust the notebook. <br />On GitHub, the HTML representation is unable to render, please try loading this page with nbviewer.org.</b></div><div class=\"sk-container\" hidden><div class=\"sk-item\"><div class=\"sk-estimator sk-toggleable\"><input class=\"sk-toggleable__control sk-hidden--visually\" id=\"sk-estimator-id-4\" type=\"checkbox\" checked><label for=\"sk-estimator-id-4\" class=\"sk-toggleable__label sk-toggleable__label-arrow\">SVC</label><div class=\"sk-toggleable__content\"><pre>SVC(kernel=&#x27;linear&#x27;, random_state=0)</pre></div></div></div></div></div>"
            ]
          },
          "metadata": {},
          "execution_count": 52
        }
      ]
    },
    {
      "cell_type": "code",
      "source": [
        "# Realizar predicciones en el conjunto de prueba\n",
        "y_pred_svm = svm_model.predict(X_test)\n",
        "# Mostrar el Classification Report y Accuracy Score\n",
        "print(\"Classification Report:\")\n",
        "print(classification_report(y_test, y_pred_svm))\n",
        "\n",
        "print(\"Accuracy Score:\")\n",
        "print(accuracy_score(y_test, y_pred_svm))"
      ],
      "metadata": {
        "id": "npQYHYu6L7gM",
        "outputId": "e0ff873a-909b-4d8e-ce72-0ba845210731",
        "colab": {
          "base_uri": "https://localhost:8080/"
        }
      },
      "execution_count": null,
      "outputs": [
        {
          "output_type": "stream",
          "name": "stdout",
          "text": [
            "Classification Report:\n",
            "              precision    recall  f1-score   support\n",
            "\n",
            "           1       0.28      0.57      0.38        49\n",
            "           2       0.28      0.15      0.19        34\n",
            "           3       0.26      0.20      0.23        54\n",
            "           4       0.15      0.09      0.11        33\n",
            "           5       0.26      0.42      0.32        48\n",
            "           6       0.47      0.30      0.36        27\n",
            "           7       0.29      0.06      0.10        35\n",
            "\n",
            "    accuracy                           0.28       280\n",
            "   macro avg       0.28      0.25      0.24       280\n",
            "weighted avg       0.28      0.28      0.25       280\n",
            "\n",
            "Accuracy Score:\n",
            "0.275\n"
          ]
        }
      ]
    },
    {
      "cell_type": "markdown",
      "source": [
        "El nivel de precisión sigue siendo **muy bajo.**"
      ],
      "metadata": {
        "id": "jD2wnD8WApn2"
      }
    },
    {
      "cell_type": "markdown",
      "source": [
        "# **CONCLUSIÓN:**\n",
        "\n",
        "**La prueba de la hipótesis no pudo ser concretada por falta de datos.**\n",
        "\n",
        "\n",
        "\n",
        "**Preguntas personales acerca dell proyecto:**\n",
        "Para este tipo de problemas ¿está bien el algoritmo que utilicé?\n",
        "\n",
        "Tengo presente que el dataset no era óptimo para un análisis de datos mas extenso y preciso, pero simplificaba las cosas para una entrega óptima. En el curso II, utilizaré un dataset orientado a empresas, volveré a hacer todo este análisis de datos para mejorar la propuesta."
      ],
      "metadata": {
        "id": "AywaiSs3A3Hq"
      }
    }
  ]
}